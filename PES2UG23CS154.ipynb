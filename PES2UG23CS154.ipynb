{
 "cells": [
  {
   "cell_type": "markdown",
   "metadata": {
    "id": "BQVL4UhEUn7f"
   },
   "source": [
    "**Objective**: In this lab, you will implement and compare manual grid search with scikit-learn's built-in GridSearchCV for hyperparameter tuning. You'll work with multiple classification algorithms and combine them using voting classifiers.\n",
    "\n",
    "**Learning Goals**:\n",
    "- Understand hyperparameter tuning through grid search\n",
    "- Compare manual implementation with built-in functions\n",
    "- Learn to create and evaluate voting classifiers\n",
    "- Work with multiple real-world datasets\n",
    "- Visualize model performance using ROC curves and confusion matrices\n",
    "\n",
    "**Datasets Used**:\n",
    "1. Wine Quality - Predicting wine quality based on chemical properties\n",
    "2. HR Attrition - Predicting employee turnover\n",
    "3. Banknote Authentication - Detecting counterfeit banknotes\n",
    "4. QSAR Biodegradation - Predicting chemical biodegradability\n"
   ]
  },
  {
   "cell_type": "markdown",
   "metadata": {
    "id": "zhTLi8QnUxFG"
   },
   "source": [
    "\n",
    "## Part 1: Import Libraries and Setup\n",
    "\n",
    "First, let's import all the necessary libraries for our machine learning pipeline."
   ]
  },
  {
   "cell_type": "code",
   "execution_count": 23,
   "metadata": {
    "id": "2OwDmFPCRrMI"
   },
   "outputs": [],
   "source": [
    "import pandas as pd\n",
    "import numpy as np\n",
    "from itertools import product\n",
    "import matplotlib.pyplot as plt\n",
    "from sklearn.model_selection import train_test_split, StratifiedKFold, GridSearchCV\n",
    "from sklearn.preprocessing import StandardScaler\n",
    "from sklearn.feature_selection import SelectKBest, f_classif\n",
    "from sklearn.pipeline import Pipeline\n",
    "from sklearn.tree import DecisionTreeClassifier\n",
    "from sklearn.neighbors import KNeighborsClassifier\n",
    "from sklearn.linear_model import LogisticRegression\n",
    "from sklearn.ensemble import VotingClassifier\n",
    "from sklearn.metrics import (accuracy_score, precision_score, recall_score,\n",
    "                             f1_score, roc_auc_score, roc_curve,\n",
    "                             confusion_matrix, ConfusionMatrixDisplay, classification_report)\n",
    "# Bypass SSL certificate verification for dataset downloads\n",
    "import ssl\n",
    "ssl._create_default_https_context = ssl._create_unverified_context\n",
    "import warnings\n",
    "warnings.filterwarnings(\"ignore\")"
   ]
  },
  {
   "cell_type": "markdown",
   "metadata": {
    "id": "I0WVjgxFUwIO"
   },
   "source": [
    "# Models and Parameter Grids"
   ]
  },
  {
   "cell_type": "code",
   "execution_count": 24,
   "metadata": {
    "id": "jBkCgnvWRvcK"
   },
   "outputs": [],
   "source": [
    "\n",
    "# The parameter names must match the pipeline step names, e.g., 'classifier__max_depth'\n",
    "# Define base models (Decision Tree, kNN, Logistic Regression)\n",
    "\n",
    "dt_clf = DecisionTreeClassifier(random_state=42)\n",
    "knn_clf = KNeighborsClassifier()\n",
    "lr_clf = LogisticRegression(max_iter=1000, n_jobs=None) if hasattr(LogisticRegression(), 'n_jobs') else LogisticRegression(max_iter=1000)\n",
    "\n",
    "# Grids for classifier-specific hyperparameters (feature_selection__k is added dynamically per dataset)\n",
    "param_grid_dt = {\n",
    "    'classifier__criterion': ['gini', 'entropy', 'log_loss'],\n",
    "    'classifier__max_depth': [None, 3, 5, 10],\n",
    "    'classifier__min_samples_split': [2, 5, 10],\n",
    "    'classifier__min_samples_leaf': [1, 2, 4]\n",
    "}\n",
    "\n",
    "param_grid_knn = {\n",
    "    'classifier__n_neighbors': [3, 5, 7, 11],\n",
    "    'classifier__weights': ['uniform', 'distance'],\n",
    "    'classifier__p': [1, 2]  # 1: Manhattan, 2: Euclidean\n",
    "}\n",
    "\n",
    "param_grid_lr = {\n",
    "    'classifier__C': [0.01, 0.1, 1, 10],\n",
    "    'classifier__penalty': ['l2'],\n",
    "    'classifier__solver': ['lbfgs', 'liblinear']\n",
    "}\n",
    "\n",
    "# List of (classifier_instance, param_grid, name)\n",
    "classifiers_to_tune = [\n",
    "    (dt_clf, param_grid_dt, 'Decision Tree'),\n",
    "    (knn_clf, param_grid_knn, 'k-Nearest Neighbors'),\n",
    "    (lr_clf, param_grid_lr, 'Logistic Regression')\n",
    "]\n"
   ]
  },
  {
   "cell_type": "markdown",
   "metadata": {
    "id": "_7Ls-UHJWNU6"
   },
   "source": [
    "## Dataset Loading Functions\n",
    "We'll work with four different datasets to test our algorithms across various domains."
   ]
  },
  {
   "cell_type": "markdown",
   "metadata": {
    "id": "mUtGII7gWX_a"
   },
   "source": [
    "### 3.1 Wine Quality Dataset\n"
   ]
  },
  {
   "cell_type": "code",
   "execution_count": 25,
   "metadata": {
    "id": "LHHtEi5GZjaU"
   },
   "outputs": [],
   "source": [
    "# def load_wine_quality():\n",
    "#     \"\"\"Load Wine Quality dataset\"\"\"\n",
    "#     url = 'https://archive.ics.uci.edu/ml/machine-learning-databases/wine-quality/winequality-red.csv'\n",
    "#     try:\n",
    "#         data = pd.read_csv(url, sep=';')\n",
    "#     except Exception as e:\n",
    "#         print(f\"Error loading Wine Quality dataset: {e}\")\n",
    "#         return None, None, None, None, \"Wine Quality (Failed)\"\n",
    "\n",
    "#     # Create the binary target variable 'good_quality'\n",
    "#     data['good_quality'] = (data['quality'] > 5).astype(int)\n",
    "#     X = data.drop(['quality', 'good_quality'], axis=1)\n",
    "#     y = data['good_quality']\n",
    "# # \n",
    "#     # Train-test split\n",
    "#     X_train, X_test, y_train, y_test = train_test_split(\n",
    "#         X, y, test_size=0.3, random_state=42, stratify=y\n",
    "#     )\n",
    "\n",
    "#     print(\"Wine Quality dataset loaded and preprocessed successfully.\")\n",
    "#     print(f\"Training set shape: {X_train.shape}\")\n",
    "#     print(f\"Testing set shape: {X_test.shape}\")\n",
    "#     return X_train, X_test, y_train, y_test, \"Wine Quality\""
   ]
  },
  {
   "cell_type": "markdown",
   "metadata": {
    "id": "COsVTdScWkV6"
   },
   "source": [
    "### 3.2 HR Attrition Dataset\n"
   ]
  },
  {
   "cell_type": "code",
   "execution_count": 26,
   "metadata": {
    "id": "yg6n6BKwZwGU"
   },
   "outputs": [],
   "source": [
    "def load_hr_attrition():\n",
    "    \"\"\"Load IBM HR Attrition dataset\"\"\"\n",
    "    try:\n",
    "        data = pd.read_csv(\"data/WA_Fn-UseC_-HR-Employee-Attrition.csv\")\n",
    "    except FileNotFoundError:\n",
    "        print(\"HR Attrition dataset not found. Please place 'WA_Fn-UseC_-HR-Employee-Attrition.csv' inside a 'data/' folder.\")\n",
    "        return None, None, None, None, \"HR Attrition (Failed)\"\n",
    "\n",
    "    # Target: Attrition = Yes (1), No (0)\n",
    "    data['Attrition'] = (data['Attrition'] == 'Yes').astype(int)\n",
    "\n",
    "    # Drop ID-like column\n",
    "    X = data.drop(['EmployeeNumber', 'Attrition'], axis=1, errors='ignore')\n",
    "    y = data['Attrition']\n",
    "\n",
    "    # One-hot encode categorical variables\n",
    "    X = pd.get_dummies(X, drop_first=True)\n",
    "\n",
    "    # Train-test split\n",
    "    X_train, X_test, y_train, y_test = train_test_split(\n",
    "        X, y, stratify=y, test_size=0.3, random_state=42\n",
    "    )\n",
    "\n",
    "    print(\"IBM HR Attrition dataset loaded and preprocessed successfully.\")\n",
    "    print(f\"Training set shape: {X_train.shape}\")\n",
    "    print(f\"Testing set shape: {X_test.shape}\")\n",
    "    return X_train, X_test, y_train, y_test, \"HR Attrition\""
   ]
  },
  {
   "cell_type": "markdown",
   "metadata": {
    "id": "RKtpzNthWoUu"
   },
   "source": [
    "### 3.3 Banknote Authentication Dataset\n",
    "\n"
   ]
  },
  {
   "cell_type": "code",
   "execution_count": 27,
   "metadata": {
    "id": "Tx-CvEtlZ1HO"
   },
   "outputs": [],
   "source": [
    "# def load_banknote():\n",
    "#     \"\"\"Load Banknote Authentication dataset\"\"\"\n",
    "#     url = \"https://archive.ics.uci.edu/ml/machine-learning-databases/00267/data_banknote_authentication.txt\"\n",
    "\n",
    "#     try:\n",
    "#         data = pd.read_csv(url, header=None)\n",
    "#     except Exception as e:\n",
    "#         print(f\"Error loading Banknote dataset: {e}\")\n",
    "#         return None, None, None, None, \"Banknote (Failed)\"\n",
    "\n",
    "#     # According to UCI: variance, skewness, curtosis, entropy, class (0=authentic, 1=fake)\n",
    "#     X = data.iloc[:, :-1]\n",
    "#     y = data.iloc[:, -1]\n",
    "\n",
    "#     # Train-test split\n",
    "#     X_train, X_test, y_train, y_test = train_test_split(\n",
    "#         X, y, stratify=y, test_size=0.3, random_state=42\n",
    "#     )\n",
    "\n",
    "#     print(\"Banknote Authentication dataset loaded successfully.\")\n",
    "#     print(f\"Training set shape: {X_train.shape}\")\n",
    "#     print(f\"Testing set shape: {X_test.shape}\")\n",
    "#     return X_train, X_test, y_train, y_test, \"Banknote Authentication\""
   ]
  },
  {
   "cell_type": "markdown",
   "metadata": {
    "id": "OvL5YtzRW8QT"
   },
   "source": [
    "\n",
    "### 3.4 QSAR Biodegradation Dataset\n",
    "\n",
    "\n",
    "\n"
   ]
  },
  {
   "cell_type": "code",
   "execution_count": 28,
   "metadata": {
    "id": "bec4DanzZ60c"
   },
   "outputs": [],
   "source": [
    "# def load_qsar_biodegradation():\n",
    "#     \"\"\"Load QSAR Biodegradation dataset\"\"\"\n",
    "#     url = \"https://archive.ics.uci.edu/ml/machine-learning-databases/00254/biodeg.csv\"\n",
    "\n",
    "#     try:\n",
    "#         data = pd.read_csv(url, sep=';', header=None)\n",
    "#     except Exception as e:\n",
    "#         print(f\"Error loading QSAR dataset: {e}\")\n",
    "#         return None, None, None, None, \"QSAR (Failed)\"\n",
    "\n",
    "#     # Last column is target (RB = ready biodegradable, NRB = not)\n",
    "#     X = data.iloc[:, :-1]\n",
    "#     y = (data.iloc[:, -1] == 'RB').astype(int)\n",
    "\n",
    "#     # Train-test split\n",
    "#     X_train, X_test, y_train, y_test = train_test_split(\n",
    "#         X, y, stratify=y, test_size=0.3, random_state=42\n",
    "#     )\n",
    "\n",
    "#     print(\"QSAR Biodegradation dataset loaded successfully.\")\n",
    "#     print(f\"Training set shape: {X_train.shape}\")\n",
    "#     print(f\"Testing set shape: {X_test.shape}\")\n",
    "#     return X_train, X_test, y_train, y_test, \"QSAR Biodegradation\""
   ]
  },
  {
   "cell_type": "markdown",
   "metadata": {
    "id": "5ovvQpiIXN7O"
   },
   "source": [
    "## Part 4: Manual Grid Search Implementation\n",
    "\n"
   ]
  },
  {
   "cell_type": "code",
   "execution_count": 29,
   "metadata": {
    "id": "1GJmCWupaGE8"
   },
   "outputs": [],
   "source": [
    "\n",
    "def run_manual_grid_search(X_train, y_train, dataset_name):\n",
    "    \"\"\"Run manual grid search (from scratch) and return dict of best pipelines by model name\"\"\"\n",
    "    print(f\"\\n{'='*60}\")\n",
    "    print(f\"RUNNING MANUAL GRID SEARCH FOR {dataset_name.upper()}\")\n",
    "    print(f\"{'='*60}\")\n",
    "\n",
    "    best_estimators = {}\n",
    "    cv = StratifiedKFold(n_splits=5, shuffle=True, random_state=42)\n",
    "\n",
    "    # Dynamically choose feature counts based on dataset dimensionality\n",
    "    n_features = X_train.shape[1]\n",
    "    k_grid = sorted(set([min(k, n_features) for k in [5, 10, 20, 30, n_features] if k >= 1]))\n",
    "\n",
    "    for classifier_instance, param_grid, name in classifiers_to_tune:\n",
    "        print(f\"--- Manual Grid Search for {name} ---\")\n",
    "        best_score = -1.0\n",
    "        best_params = None\n",
    "\n",
    "        # Build full grid including feature_selection__k\n",
    "        full_grid = dict(param_grid)\n",
    "        full_grid['feature_selection__k'] = k_grid\n",
    "\n",
    "        # Generate all combinations\n",
    "        keys = list(full_grid.keys())\n",
    "        values_product = list(product(*[full_grid[k] for k in keys]))\n",
    "\n",
    "        for values in values_product:\n",
    "            params = dict(zip(keys, values))\n",
    "\n",
    "            # 5-fold CV\n",
    "            fold_scores = []\n",
    "            for train_idx, val_idx in cv.split(X_train, y_train):\n",
    "                X_tr, X_val = X_train.iloc[train_idx], X_train.iloc[val_idx]\n",
    "                y_tr, y_val = y_train.iloc[train_idx], y_train.iloc[val_idx]\n",
    "\n",
    "                pipe = Pipeline([\n",
    "                    ('scaler', StandardScaler()),\n",
    "                    ('feature_selection', SelectKBest(f_classif)),\n",
    "                    ('classifier', classifier_instance.__class__(**{k.replace('classifier__',''): v for k,v in params.items() if k.startswith('classifier__')}))\n",
    "                ])\n",
    "\n",
    "                # Set SelectKBest k\n",
    "                pipe.set_params(**{'feature_selection__k': params['feature_selection__k']})\n",
    "\n",
    "                # Fit and evaluate\n",
    "                pipe.fit(X_tr, y_tr)\n",
    "                try:\n",
    "                    y_proba = pipe.predict_proba(X_val)[:, 1]\n",
    "                except Exception:\n",
    "                    # Some solvers/classifiers might not expose predict_proba; fall back to decision_function\n",
    "                    if hasattr(pipe, 'decision_function'):\n",
    "                        scores = pipe.decision_function(X_val)\n",
    "                        # Convert to 0-1 via min-max to approximate probabilities\n",
    "                        scores = (scores - scores.min()) / (scores.max() - scores.min() + 1e-9)\n",
    "                        y_proba = scores\n",
    "                    else:\n",
    "                        # As a last resort, use predictions\n",
    "                        y_proba = pipe.predict(X_val)\n",
    "\n",
    "                auc = roc_auc_score(y_val, y_proba)\n",
    "                fold_scores.append(auc)\n",
    "\n",
    "            mean_auc = float(np.mean(fold_scores))\n",
    "\n",
    "            if mean_auc > best_score:\n",
    "                best_score = mean_auc\n",
    "                best_params = params\n",
    "\n",
    "        print(f\"Best params for {name}: {best_params}\")\n",
    "        print(f\"Best CV ROC AUC: {best_score:.4f}\")\n",
    "\n",
    "        # Refit best pipeline on full training data\n",
    "        final_pipeline = Pipeline([\n",
    "            ('scaler', StandardScaler()),\n",
    "            ('feature_selection', SelectKBest(f_classif)),\n",
    "            ('classifier', classifier_instance.__class__(**{k.replace('classifier__',''): v for k,v in best_params.items() if k.startswith('classifier__')}))\n",
    "        ])\n",
    "        final_pipeline.set_params(**{'feature_selection__k': best_params['feature_selection__k']})\n",
    "        final_pipeline.fit(X_train, y_train)\n",
    "        best_estimators[name] = final_pipeline\n",
    "\n",
    "    return best_estimators\n"
   ]
  },
  {
   "cell_type": "markdown",
   "metadata": {
    "id": "NRUAXSXaXUJG"
   },
   "source": [
    "**Understanding the Manual Implementation**:\n",
    "- **Nested Cross-Validation**: For each parameter combination, we perform 5-fold CV\n",
    "- **Pipeline Integration**: Each step (scaling, feature selection, classification) is properly chained\n",
    "- **AUC Scoring**: We use Area Under the ROC Curve as our optimization metric\n",
    "- **Best Model Selection**: The combination with highest mean AUC across folds is selected"
   ]
  },
  {
   "cell_type": "markdown",
   "metadata": {
    "id": "C-4A_DGpXotU"
   },
   "source": [
    "## Part 5: Built-in Grid Search Implementation\n",
    "\n",
    "Now let's compare our manual implementation with scikit-learn's GridSearchCV.\n",
    "\n",
    "\n",
    "\n",
    "**Advantages of Built-in GridSearchCV**:\n",
    "- **Parallel Processing**: Uses `n_jobs=-1` for faster computation\n",
    "- **Cleaner Code**: Less verbose than manual implementation\n",
    "- **Built-in Features**: Automatic best model selection and scoring\n"
   ]
  },
  {
   "cell_type": "code",
   "execution_count": 30,
   "metadata": {
    "id": "edhV1LPEaOdb"
   },
   "outputs": [],
   "source": [
    "\n",
    "def run_builtin_grid_search(X_train, y_train, dataset_name):\n",
    "    \"\"\"Run scikit-learn GridSearchCV and return results dict with best estimators\"\"\"\n",
    "    print(f\"\\n{'='*60}\")\n",
    "    print(f\"RUNNING BUILT-IN GRID SEARCH FOR {dataset_name.upper()}\")\n",
    "    print(f\"{'='*60}\")\n",
    "\n",
    "    results_builtin = {}\n",
    "\n",
    "    n_features = X_train.shape[1]\n",
    "    k_grid = sorted(set([min(k, n_features) for k in [5, 10, 20, 30, n_features] if k >= 1]))\n",
    "\n",
    "    for classifier_instance, param_grid, name in classifiers_to_tune:\n",
    "        print(f\"\\n--- GridSearchCV for {name} ---\")\n",
    "\n",
    "        pipe = Pipeline([\n",
    "            ('scaler', StandardScaler()),\n",
    "            ('feature_selection', SelectKBest(f_classif)),\n",
    "            ('classifier', classifier_instance)\n",
    "        ])\n",
    "\n",
    "        # Compose full parameter grid including feature_selection__k\n",
    "        full_grid = dict(param_grid)\n",
    "        full_grid['feature_selection__k'] = k_grid\n",
    "\n",
    "        cv_splitter = StratifiedKFold(n_splits=5, shuffle=True, random_state=42)\n",
    "        grid_search = GridSearchCV(\n",
    "            estimator=pipe,\n",
    "            param_grid=full_grid,\n",
    "            scoring='roc_auc',\n",
    "            cv=cv_splitter,\n",
    "            n_jobs=-1,\n",
    "            refit=True,\n",
    "            verbose=0\n",
    "        )\n",
    "        grid_search.fit(X_train, y_train)\n",
    "\n",
    "        results_builtin[name] = {\n",
    "            'best_estimator': grid_search.best_estimator_,\n",
    "            'best_score (CV)': float(grid_search.best_score_),\n",
    "            'best_params': grid_search.best_params_\n",
    "        }\n",
    "        print(f\"Best params for {name}: {results_builtin[name]['best_params']}\")\n",
    "        print(f\"Best CV score: {results_builtin[name]['best_score (CV)']:.4f}\")\n",
    "\n",
    "    return results_builtin\n"
   ]
  },
  {
   "cell_type": "markdown",
   "metadata": {
    "id": "uk7sL-SRXlow"
   },
   "source": [
    "## Part 6: Model Evaluation and Voting Classifiers\n",
    "\n",
    "This function evaluates individual models and creates voting classifiers to combine their predictions.\n",
    "\n",
    "\n"
   ]
  },
  {
   "cell_type": "code",
   "execution_count": 31,
   "metadata": {
    "id": "ZLlH3BDoabcE"
   },
   "outputs": [],
   "source": [
    "def evaluate_models(X_test, y_test, best_estimators, dataset_name, method_name=\"Manual\"):\n",
    "    \"\"\"Evaluate models and create visualizations\"\"\"\n",
    "    print(f\"\\n{'='*60}\")\n",
    "    print(f\"EVALUATING {method_name.upper()} MODELS FOR {dataset_name.upper()}\")\n",
    "    print(f\"{'='*60}\")\n",
    "\n",
    "    # Individual model evaluation\n",
    "    print(f\"\\n--- Individual Model Performance ---\")\n",
    "    for name, model in best_estimators.items():\n",
    "        y_pred = model.predict(X_test)\n",
    "        y_pred_proba = model.predict_proba(X_test)[:, 1]\n",
    "        print(f\"\\n{name}:\")\n",
    "        print(f\"  Accuracy: {accuracy_score(y_test, y_pred):.4f}\")\n",
    "        print(f\"  Precision: {precision_score(y_test, y_pred, zero_division=0):.4f}\")\n",
    "        print(f\"  Recall: {recall_score(y_test, y_pred, zero_division=0):.4f}\")\n",
    "        print(f\"  F1-Score: {f1_score(y_test, y_pred, zero_division=0):.4f}\")\n",
    "        print(f\"  ROC AUC: {roc_auc_score(y_test, y_pred_proba):.4f}\")\n",
    "\n",
    "    # Voting Classifier\n",
    "    print(f\"\\n--- {method_name} Voting Classifier ---\")\n",
    "\n",
    "    if method_name == \"Manual\":\n",
    "        # Manual voting implementation\n",
    "        y_pred_votes = []\n",
    "        y_pred_proba_avg = []\n",
    "\n",
    "        for i in range(len(X_test)):\n",
    "            votes = []\n",
    "            probas = []\n",
    "\n",
    "            for name, model in best_estimators.items():\n",
    "                pred = model.predict(X_test.iloc[[i]])[0]\n",
    "                proba = model.predict_proba(X_test.iloc[[i]])[0, 1]\n",
    "                votes.append(pred)\n",
    "                probas.append(proba)\n",
    "\n",
    "            majority_vote = 1 if np.mean(votes) > 0.5 else 0\n",
    "            avg_proba = np.mean(probas)\n",
    "\n",
    "            y_pred_votes.append(majority_vote)\n",
    "            y_pred_proba_avg.append(avg_proba)\n",
    "\n",
    "        y_pred_votes = np.array(y_pred_votes)\n",
    "        y_pred_proba_avg = np.array(y_pred_proba_avg)\n",
    "\n",
    "    else:  # Built-in\n",
    "        # Create VotingClassifier\n",
    "        estimators = [(name, model) for name, model in best_estimators.items()]\n",
    "        voting_clf = VotingClassifier(estimators=estimators, voting='soft')\n",
    "        voting_clf.fit(X_train, y_train)  # Note: This assumes X_train, y_train are in scope\n",
    "\n",
    "        y_pred_votes = voting_clf.predict(X_test)\n",
    "        y_pred_proba_avg = voting_clf.predict_proba(X_test)[:, 1]\n",
    "\n",
    "    # Compute voting metrics\n",
    "    accuracy = accuracy_score(y_test, y_pred_votes)\n",
    "    precision = precision_score(y_test, y_pred_votes, zero_division=0)\n",
    "    recall = recall_score(y_test, y_pred_votes, zero_division=0)\n",
    "    f1 = f1_score(y_test, y_pred_votes, zero_division=0)\n",
    "    auc = roc_auc_score(y_test, y_pred_proba_avg)\n",
    "\n",
    "    print(f\"Voting Classifier Performance:\")\n",
    "    print(f\"  Accuracy: {accuracy:.4f}, Precision: {precision:.4f}\")\n",
    "    print(f\"  Recall: {recall:.4f}, F1: {f1:.4f}, AUC: {auc:.4f}\")\n",
    "\n",
    "    # Visualizations\n",
    "    # ROC Curves\n",
    "    plt.figure(figsize=(12, 5))\n",
    "\n",
    "    plt.subplot(1, 2, 1)\n",
    "    for name, model in best_estimators.items():\n",
    "        y_pred_proba = model.predict_proba(X_test)[:, 1]\n",
    "        fpr, tpr, _ = roc_curve(y_test, y_pred_proba)\n",
    "        auc_score = roc_auc_score(y_test, y_pred_proba)\n",
    "        plt.plot(fpr, tpr, label=f'{name} (AUC = {auc_score:.3f})')\n",
    "\n",
    "    # Add voting classifier to ROC\n",
    "    fpr_vote, tpr_vote, _ = roc_curve(y_test, y_pred_proba_avg)\n",
    "    plt.plot(fpr_vote, tpr_vote, label=f'Voting (AUC = {auc:.3f})', linewidth=3, linestyle='--')\n",
    "\n",
    "    plt.plot([0, 1], [0, 1], 'k--', label='Chance')\n",
    "    plt.xlabel('False Positive Rate')\n",
    "    plt.ylabel('True Positive Rate')\n",
    "    plt.title(f'ROC Curves - {dataset_name} ({method_name})')\n",
    "    plt.legend()\n",
    "    plt.grid(True)\n",
    "\n",
    "    # Confusion Matrix for Voting Classifier\n",
    "    plt.subplot(1, 2, 2)\n",
    "    cm = confusion_matrix(y_test, y_pred_votes)\n",
    "    disp = ConfusionMatrixDisplay(confusion_matrix=cm)\n",
    "    disp.plot(ax=plt.gca(), cmap=\"Blues\")\n",
    "    plt.title(f'Voting Classifier - {dataset_name} ({method_name})')\n",
    "\n",
    "    plt.tight_layout()\n",
    "    plt.show()\n",
    "\n",
    "    return y_pred_votes, y_pred_proba_avg"
   ]
  },
  {
   "cell_type": "markdown",
   "metadata": {
    "id": "zwzQEU5pZMDI"
   },
   "source": [
    "## Part 7: Complete Pipeline Function\n",
    "\n",
    "This function orchestrates the entire experiment for each dataset.\n",
    "\n"
   ]
  },
  {
   "cell_type": "code",
   "execution_count": 32,
   "metadata": {
    "id": "jGPXOfWaaf_n"
   },
   "outputs": [],
   "source": [
    "def run_complete_pipeline(dataset_loader, dataset_name):\n",
    "    \"\"\"Run complete pipeline for a dataset\"\"\"\n",
    "    print(f\"\\n{'#'*80}\")\n",
    "    print(f\"PROCESSING DATASET: {dataset_name.upper()}\")\n",
    "    print(f\"{'#'*80}\")\n",
    "\n",
    "    # Load dataset\n",
    "    X_train, X_test, y_train, y_test, actual_name = dataset_loader()\n",
    "    if X_train is None:\n",
    "        print(f\"Skipping {dataset_name} due to loading error.\")\n",
    "        return\n",
    "\n",
    "    print(\"-\" * 30)\n",
    "\n",
    "    # Part 1: Manual Implementation\n",
    "    manual_estimators = run_manual_grid_search(X_train, y_train, actual_name)\n",
    "    manual_votes, manual_proba = evaluate_models(X_test, y_test, manual_estimators, actual_name, \"Manual\")\n",
    "\n",
    "    # Part 2: Built-in Implementation\n",
    "    builtin_results = run_builtin_grid_search(X_train, y_train, actual_name)\n",
    "    builtin_estimators = {name: results['best_estimator']\n",
    "                         for name, results in builtin_results.items()}\n",
    "    builtin_votes, builtin_proba = evaluate_models(X_test, y_test, builtin_estimators, actual_name, \"Built-in\")\n",
    "\n",
    "    print(f\"\\nCompleted processing for {actual_name}\")\n",
    "    print(\"=\"*80)"
   ]
  },
  {
   "cell_type": "markdown",
   "metadata": {
    "id": "luYsJ4GtZbz7"
   },
   "source": [
    "## Part 8: Execute the Complete Lab\n",
    "\n",
    "Now let's run our pipeline on all four datasets!\n",
    "\n"
   ]
  },
  {
   "cell_type": "code",
   "execution_count": 33,
   "metadata": {
    "id": "QwgQCoI1ZcSa"
   },
   "outputs": [
    {
     "name": "stdout",
     "output_type": "stream",
     "text": [
      "\n",
      "################################################################################\n",
      "PROCESSING DATASET: HR ATTRITION\n",
      "################################################################################\n",
      "IBM HR Attrition dataset loaded and preprocessed successfully.\n",
      "Training set shape: (1029, 46)\n",
      "Testing set shape: (441, 46)\n",
      "------------------------------\n",
      "\n",
      "============================================================\n",
      "RUNNING MANUAL GRID SEARCH FOR HR ATTRITION\n",
      "============================================================\n",
      "--- Manual Grid Search for Decision Tree ---\n",
      "Best params for Decision Tree: {'classifier__criterion': 'gini', 'classifier__max_depth': 5, 'classifier__min_samples_split': 5, 'classifier__min_samples_leaf': 4, 'feature_selection__k': 10}\n",
      "Best CV ROC AUC: 0.7266\n",
      "--- Manual Grid Search for k-Nearest Neighbors ---\n",
      "Best params for k-Nearest Neighbors: {'classifier__n_neighbors': 11, 'classifier__weights': 'distance', 'classifier__p': 1, 'feature_selection__k': 46}\n",
      "Best CV ROC AUC: 0.7305\n",
      "--- Manual Grid Search for Logistic Regression ---\n",
      "Best params for Logistic Regression: {'classifier__C': 0.1, 'classifier__penalty': 'l2', 'classifier__solver': 'lbfgs', 'feature_selection__k': 46}\n",
      "Best CV ROC AUC: 0.8329\n",
      "\n",
      "============================================================\n",
      "EVALUATING MANUAL MODELS FOR HR ATTRITION\n",
      "============================================================\n",
      "\n",
      "--- Individual Model Performance ---\n",
      "\n",
      "Decision Tree:\n",
      "  Accuracy: 0.8050\n",
      "  Precision: 0.3077\n",
      "  Recall: 0.1690\n",
      "  F1-Score: 0.2182\n",
      "  ROC AUC: 0.7036\n",
      "\n",
      "k-Nearest Neighbors:\n",
      "  Accuracy: 0.8481\n",
      "  Precision: 0.7000\n",
      "  Recall: 0.0986\n",
      "  F1-Score: 0.1728\n",
      "  ROC AUC: 0.7025\n",
      "\n",
      "Logistic Regression:\n",
      "  Accuracy: 0.8798\n",
      "  Precision: 0.7368\n",
      "  Recall: 0.3944\n",
      "  F1-Score: 0.5138\n",
      "  ROC AUC: 0.8187\n",
      "\n",
      "--- Manual Voting Classifier ---\n",
      "Voting Classifier Performance:\n",
      "  Accuracy: 0.8481, Precision: 0.6429\n",
      "  Recall: 0.1268, F1: 0.2118, AUC: 0.7912\n"
     ]
    },
    {
     "data": {
      "image/png": "[encoded data removed]",
      "text/plain": [
       "<Figure size 1200x500 with 3 Axes>"
      ]
     },
     "metadata": {},
     "output_type": "display_data"
    },
    {
     "name": "stdout",
     "output_type": "stream",
     "text": [
      "\n",
      "============================================================\n",
      "RUNNING BUILT-IN GRID SEARCH FOR HR ATTRITION\n",
      "============================================================\n",
      "\n",
      "--- GridSearchCV for Decision Tree ---\n",
      "Best params for Decision Tree: {'classifier__criterion': 'entropy', 'classifier__max_depth': 3, 'classifier__min_samples_leaf': 1, 'classifier__min_samples_split': 2, 'feature_selection__k': 30}\n",
      "Best CV score: 0.7261\n",
      "\n",
      "--- GridSearchCV for k-Nearest Neighbors ---\n",
      "Best params for k-Nearest Neighbors: {'classifier__n_neighbors': 11, 'classifier__p': 1, 'classifier__weights': 'distance', 'feature_selection__k': 46}\n",
      "Best CV score: 0.7305\n",
      "\n",
      "--- GridSearchCV for Logistic Regression ---\n",
      "Best params for Logistic Regression: {'classifier__C': 0.1, 'classifier__penalty': 'l2', 'classifier__solver': 'lbfgs', 'feature_selection__k': 46}\n",
      "Best CV score: 0.8329\n",
      "\n",
      "============================================================\n",
      "EVALUATING BUILT-IN MODELS FOR HR ATTRITION\n",
      "============================================================\n",
      "\n",
      "--- Individual Model Performance ---\n",
      "\n",
      "Decision Tree:\n",
      "  Accuracy: 0.8526\n",
      "  Precision: 0.6250\n",
      "  Recall: 0.2113\n",
      "  F1-Score: 0.3158\n",
      "  ROC AUC: 0.7200\n",
      "\n",
      "k-Nearest Neighbors:\n",
      "  Accuracy: 0.8481\n",
      "  Precision: 0.7000\n",
      "  Recall: 0.0986\n",
      "  F1-Score: 0.1728\n",
      "  ROC AUC: 0.7025\n",
      "\n",
      "Logistic Regression:\n",
      "  Accuracy: 0.8798\n",
      "  Precision: 0.7368\n",
      "  Recall: 0.3944\n",
      "  F1-Score: 0.5138\n",
      "  ROC AUC: 0.8187\n",
      "\n",
      "--- Built-in Voting Classifier ---\n",
      "Error processing HR Attrition: name 'X_train' is not defined\n",
      "\n",
      "================================================================================\n",
      "ALL REQUESTED DATASETS PROCESSED!\n",
      "================================================================================\n"
     ]
    }
   ],
   "source": [
    "\n",
    "# --- Run Pipeline for HR Attrition only ---\n",
    "datasets = [\n",
    "    (load_hr_attrition, \"HR Attrition\"),\n",
    "]\n",
    "\n",
    "for dataset_loader, dataset_name in datasets:\n",
    "    try:\n",
    "        run_complete_pipeline(dataset_loader, dataset_name)\n",
    "    except Exception as e:\n",
    "        print(f\"Error processing {dataset_name}: {e}\")\n",
    "        continue\n",
    "\n",
    "print(\"\\n\" + \"=\"*80)\n",
    "print(\"ALL REQUESTED DATASETS PROCESSED!\")\n",
    "print(\"=\"*80)\n"
   ]
  }
 ],
 "metadata": {
  "colab": {
   "provenance": []
  },
  "kernelspec": {
   "display_name": "Python 3",
   "language": "python",
   "name": "python3"
  },
  "language_info": {
   "codemirror_mode": {
    "name": "ipython",
    "version": 3
   },
   "file_extension": ".py",
   "mimetype": "text/x-python",
   "name": "python",
   "nbconvert_exporter": "python",
   "pygments_lexer": "ipython3",
   "version": "3.12.6"
  }
 },
 "nbformat": 4,
 "nbformat_minor": 0
}
